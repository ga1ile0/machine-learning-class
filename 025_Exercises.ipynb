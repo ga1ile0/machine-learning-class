{
 "cells": [
  {
   "cell_type": "code",
   "execution_count": 1,
   "metadata": {},
   "outputs": [],
   "source": [
    "import numpy as np"
   ]
  },
  {
   "cell_type": "markdown",
   "metadata": {},
   "source": [
    "# Exercises\n",
    "\n",
    "There are three exercises in this notebook:\n",
    "\n",
    "1. Use the cross-validation method to test the linear regression with different $\\alpha$ values, at least three.\n",
    "2. Implement a SGD method that will train the Lasso regression for 10 epochs.\n",
    "3. Extend the Fisher's classifier to work with two features. Use the class as the $y$."
   ]
  },
  {
   "cell_type": "markdown",
   "metadata": {},
   "source": [
    "## 1. Cross-validation linear regression\n",
    "\n",
    "You need to change the variable ``alpha`` to be a list of alphas. Next do a loop and finally compare the results."
   ]
  },
  {
   "cell_type": "code",
   "execution_count": 2,
   "metadata": {},
   "outputs": [
    {
     "name": "stdout",
     "output_type": "stream",
     "text": [
      "Alpha: 0.01, Weights: [[-167.85534019    1.54416013]], MSE: 373.7938\n",
      "Alpha: 0.1, Weights: [[-101.72397081    1.16978757]], MSE: 426.0451\n",
      "Alpha: 1.0, Weights: [[-20.59044706   0.71048616]], MSE: 592.4636\n"
     ]
    }
   ],
   "source": [
    "x = np.array([188, 181, 197, 168, 167, 187, 178, 194, 140, 176, 168, 192, 173, 142, 176]).reshape(-1, 1).reshape(15,1)\n",
    "y = np.array([141, 106, 149, 59, 79, 136, 65, 136, 52, 87, 115, 140, 82, 69, 121]).reshape(-1, 1).reshape(15,1)\n",
    "\n",
    "x = np.asmatrix(np.c_[np.ones((15,1)),x])\n",
    "\n",
    "I = np.identity(2)\n",
    "alpha = 0.1 # change here\n",
    "\n",
    "# add 1-3 line of code here\n",
    "alphas = [0.01, 0.1, 1.0]\n",
    "weights = []\n",
    "mse_values = []\n",
    "\n",
    "for alpha in alphas:\n",
    "    w = np.linalg.inv(x.T*x + alpha * I)*x.T*y\n",
    "    w = w.ravel()\n",
    "    weights.append(w)\n",
    "\n",
    "# add 1-3 lines to compare the results\n",
    "for i, (alpha, w) in enumerate(zip(alphas, weights)):\n",
    "    y_pred = x * np.matrix(w).T\n",
    "    mse = np.mean(np.square(y - y_pred))\n",
    "    mse_values.append(mse)\n",
    "    print(f\"Alpha: {alpha}, Weights: {w}, MSE: {mse:.4f}\")"
   ]
  },
  {
   "cell_type": "markdown",
   "metadata": {},
   "source": [
    "## 2. Implement based on the Ridge regression example, the Lasso regression.\n",
    "\n",
    "Please implement the SGD method and compare the results with the sklearn Lasso regression results. "
   ]
  },
  {
   "cell_type": "code",
   "execution_count": 3,
   "metadata": {},
   "outputs": [],
   "source": [
    "def sgd(X, y, alpha=0.1, learning_rate=0.0001, epochs=10):\n",
    "    np.random.seed(42)\n",
    "    w = np.zeros((X.shape[1], 1))\n",
    "    n_samples = X.shape[0]\n",
    "    \n",
    "    X = np.asarray(X)\n",
    "    y = np.asarray(y)\n",
    "    \n",
    "    for epoch in range(epochs):\n",
    "        indices = np.random.permutation(n_samples)\n",
    "        X_shuffled = X[indices]\n",
    "        y_shuffled = y[indices]\n",
    "        \n",
    "        for i in range(n_samples):\n",
    "            xi = X_shuffled[i:i+1]\n",
    "            yi = y_shuffled[i:i+1]\n",
    "            \n",
    "            y_pred = np.dot(xi, w)\n",
    "            \n",
    "            grad_mse = -2 * xi.T.dot(yi - y_pred) / n_samples\n",
    "            \n",
    "            grad_l1 = alpha * np.sign(w)\n",
    "            \n",
    "            w = w - learning_rate * (grad_mse + grad_l1)\n",
    "    \n",
    "    return w\n"
   ]
  },
  {
   "cell_type": "code",
   "execution_count": 4,
   "metadata": {},
   "outputs": [
    {
     "data": {
      "text/plain": [
       "array([0.00019717, 0.0356383 ])"
      ]
     },
     "execution_count": 4,
     "metadata": {},
     "output_type": "execute_result"
    }
   ],
   "source": [
    "x = np.array([188, 181, 197, 168, 167, 187, 178, 194, 140, 176, 168, 192, 173, 142, 176]).reshape(-1, 1).reshape(15,1)\n",
    "y = np.array([141, 106, 149, 59, 79, 136, 65, 136, 52, 87, 115, 140, 82, 69, 121]).reshape(-1, 1).reshape(15,1)\n",
    "\n",
    "x = np.asmatrix(np.c_[np.ones((15,1)),x])\n",
    "\n",
    "I = np.identity(2)\n",
    "alpha = 0.1 \n",
    "\n",
    "# Update this line to use Lasso regression\n",
    "w = sgd(x, y, alpha=alpha, learning_rate=0.0000001, epochs=10)\n",
    "w = w.ravel()\n",
    "w\n"
   ]
  },
  {
   "cell_type": "markdown",
   "metadata": {},
   "source": [
    "## 3. Extend the Fisher's classifier\n",
    "\n",
    "Please extend the targets of the ``iris_data`` variable and use it as the $y$."
   ]
  },
  {
   "cell_type": "code",
   "execution_count": 5,
   "metadata": {},
   "outputs": [
    {
     "data": {
      "text/plain": [
       "array([ 0.20927814,  0.57177423,  0.42677579,  0.49927501,  0.13677892,\n",
       "       -0.08071873,  0.28177735,  0.28177735,  0.64427344,  0.49927501,\n",
       "        0.0642797 ,  0.28177735,  0.57177423,  0.57177423, -0.15321795,\n",
       "       -0.44321482, -0.08071873,  0.20927814, -0.00821952, -0.00821952,\n",
       "        0.28177735,  0.0642797 ,  0.13677892,  0.35427657,  0.28177735,\n",
       "        0.57177423,  0.28177735,  0.20927814,  0.28177735,  0.42677579,\n",
       "        0.49927501,  0.28177735, -0.22571717, -0.29821639,  0.49927501,\n",
       "        0.42677579,  0.20927814,  0.13677892,  0.57177423,  0.28177735,\n",
       "        0.20927814,  1.07926875,  0.42677579,  0.20927814, -0.00821952,\n",
       "        0.57177423, -0.00821952,  0.42677579,  0.0642797 ,  0.35427657,\n",
       "        0.42677579,  0.42677579,  0.49927501,  1.07926875,  0.71677266,\n",
       "        0.71677266,  0.35427657,  1.00676953,  0.64427344,  0.78927188,\n",
       "        1.2967664 ,  0.57177423,  1.15176797,  0.64427344,  0.64427344,\n",
       "        0.49927501,  0.57177423,  0.78927188,  1.15176797,  0.93427031,\n",
       "        0.42677579,  0.71677266,  0.93427031,  0.71677266,  0.64427344,\n",
       "        0.57177423,  0.71677266,  0.57177423,  0.64427344,  0.8617711 ,\n",
       "        1.00676953,  1.00676953,  0.78927188,  0.78927188,  0.57177423,\n",
       "        0.28177735,  0.49927501,  1.07926875,  0.57177423,  0.93427031,\n",
       "        0.8617711 ,  0.57177423,  0.8617711 ,  1.07926875,  0.78927188,\n",
       "        0.57177423,  0.64427344,  0.64427344,  0.93427031,  0.71677266])"
      ]
     },
     "execution_count": 5,
     "metadata": {},
     "output_type": "execute_result"
    }
   ],
   "source": [
    "import pandas as pd\n",
    "import numpy as np\n",
    "import matplotlib.pyplot as plt\n",
    "from sklearn.datasets import load_iris\n",
    "\n",
    "iris_data = load_iris()\n",
    "iris_df = pd.DataFrame(iris_data.data,columns=iris_data.feature_names)\n",
    "iris_df.head()\n",
    "\n",
    "x = iris_df.loc[iris_data.target < 2, 'sepal width (cm)'].values # change here\n",
    "y = iris_data.target[iris_data.target < 2] # change here\n",
    "\n",
    "dataset_size = np.size(x)\n",
    "\n",
    "mean_x, mean_y = np.mean(x), np.mean(y)\n",
    "\n",
    "SS_xy = np.sum(y * x) - dataset_size * mean_y * mean_x\n",
    "SS_xx = np.sum(x * x) - dataset_size * mean_x * mean_x\n",
    "\n",
    "a = SS_xy / SS_xx\n",
    "b = mean_y - a * mean_x\n",
    "\n",
    "\n",
    "y_pred = a * x + b\n",
    "y_pred"
   ]
  }
 ],
 "metadata": {
  "kernelspec": {
   "display_name": "Python 3",
   "language": "python",
   "name": "python3"
  },
  "language_info": {
   "codemirror_mode": {
    "name": "ipython",
    "version": 3
   },
   "file_extension": ".py",
   "mimetype": "text/x-python",
   "name": "python",
   "nbconvert_exporter": "python",
   "pygments_lexer": "ipython3",
   "version": "3.12.1"
  }
 },
 "nbformat": 4,
 "nbformat_minor": 4
}
